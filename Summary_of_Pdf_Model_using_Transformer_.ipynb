{
  "nbformat": 4,
  "nbformat_minor": 0,
  "metadata": {
    "colab": {
      "provenance": [],
      "authorship_tag": "ABX9TyOqVGLOhiI03ZgdwOQC5koj",
      "include_colab_link": true
    },
    "kernelspec": {
      "name": "python3",
      "display_name": "Python 3"
    },
    "language_info": {
      "name": "python"
    }
  },
  "cells": [
    {
      "cell_type": "markdown",
      "metadata": {
        "id": "view-in-github",
        "colab_type": "text"
      },
      "source": [
        "<a href=\"https://colab.research.google.com/github/Sujal3141/My--Projects/blob/main/Summary_of_Pdf_Model_using_Transformer_.ipynb\" target=\"_parent\"><img src=\"https://colab.research.google.com/assets/colab-badge.svg\" alt=\"Open In Colab\"/></a>"
      ]
    },
    {
      "cell_type": "code",
      "execution_count": null,
      "metadata": {
        "id": "I4sD50Qc1gia"
      },
      "outputs": [],
      "source": [
        "import pdfplumber\n",
        "\n",
        "with pdfplumber.open(r'Operations Management.pdf') as pdf:\n",
        "    text=\"\"\n",
        "    for page in pdf.pages:\n",
        "      extracted_text = page.extract_text()\n",
        "      text += extracted_text + \"\\n\"\n"
      ]
    },
    {
      "cell_type": "code",
      "source": [
        "!pip install pdfplumber"
      ],
      "metadata": {
        "colab": {
          "base_uri": "https://localhost:8080/"
        },
        "id": "MlTBr46512ed",
        "outputId": "343010d3-f844-4051-c9d3-579e817c60ef"
      },
      "execution_count": null,
      "outputs": [
        {
          "output_type": "stream",
          "name": "stdout",
          "text": [
            "Collecting pdfplumber\n",
            "  Downloading pdfplumber-0.11.2-py3-none-any.whl (58 kB)\n",
            "\u001b[2K     \u001b[90m━━━━━━━━━━━━━━━━━━━━━━━━━━━━━━━━━━━━━━━━\u001b[0m \u001b[32m58.0/58.0 kB\u001b[0m \u001b[31m817.5 kB/s\u001b[0m eta \u001b[36m0:00:00\u001b[0m\n",
            "\u001b[?25hCollecting pdfminer.six==20231228 (from pdfplumber)\n",
            "  Downloading pdfminer.six-20231228-py3-none-any.whl (5.6 MB)\n",
            "\u001b[2K     \u001b[90m━━━━━━━━━━━━━━━━━━━━━━━━━━━━━━━━━━━━━━━━\u001b[0m \u001b[32m5.6/5.6 MB\u001b[0m \u001b[31m4.7 MB/s\u001b[0m eta \u001b[36m0:00:00\u001b[0m\n",
            "\u001b[?25hRequirement already satisfied: Pillow>=9.1 in /usr/local/lib/python3.10/dist-packages (from pdfplumber) (9.4.0)\n",
            "Collecting pypdfium2>=4.18.0 (from pdfplumber)\n",
            "  Downloading pypdfium2-4.30.0-py3-none-manylinux_2_17_x86_64.manylinux2014_x86_64.whl (2.8 MB)\n",
            "\u001b[2K     \u001b[90m━━━━━━━━━━━━━━━━━━━━━━━━━━━━━━━━━━━━━━━━\u001b[0m \u001b[32m2.8/2.8 MB\u001b[0m \u001b[31m5.4 MB/s\u001b[0m eta \u001b[36m0:00:00\u001b[0m\n",
            "\u001b[?25hRequirement already satisfied: charset-normalizer>=2.0.0 in /usr/local/lib/python3.10/dist-packages (from pdfminer.six==20231228->pdfplumber) (3.3.2)\n",
            "Requirement already satisfied: cryptography>=36.0.0 in /usr/local/lib/python3.10/dist-packages (from pdfminer.six==20231228->pdfplumber) (42.0.8)\n",
            "Requirement already satisfied: cffi>=1.12 in /usr/local/lib/python3.10/dist-packages (from cryptography>=36.0.0->pdfminer.six==20231228->pdfplumber) (1.16.0)\n",
            "Requirement already satisfied: pycparser in /usr/local/lib/python3.10/dist-packages (from cffi>=1.12->cryptography>=36.0.0->pdfminer.six==20231228->pdfplumber) (2.22)\n",
            "Installing collected packages: pypdfium2, pdfminer.six, pdfplumber\n",
            "Successfully installed pdfminer.six-20231228 pdfplumber-0.11.2 pypdfium2-4.30.0\n"
          ]
        }
      ]
    },
    {
      "cell_type": "code",
      "source": [],
      "metadata": {
        "id": "KM3NpImCUS3C"
      },
      "execution_count": null,
      "outputs": []
    },
    {
      "cell_type": "code",
      "source": [
        "def extract_text_from_pdf(pdf_file_path):\n",
        "    import pdfplumber\n",
        "\n",
        "    with pdfplumber.open(pdf_file_path) as pdf:\n",
        "        pages = pdf.pages\n",
        "        text = \"\"\n",
        "        for page in pages:\n",
        "            text += page.extract_text()\n",
        "\n",
        "    return text\n",
        "text = extract_text_from_pdf(\"/content/Operations Management.pdf\")"
      ],
      "metadata": {
        "id": "AMTWb2DMK4J1"
      },
      "execution_count": null,
      "outputs": []
    },
    {
      "cell_type": "code",
      "source": [
        "from transformers import BartTokenizer, BartForConditionalGeneration, BartConfig\n",
        "\n",
        "model = BartForConditionalGeneration.from_pretrained('sshleifer/distilbart-cnn-12-6')\n",
        "tokenizer = BartTokenizer.from_pretrained('sshleifer/distilbart-cnn-12-6')\n",
        "\n",
        "inputs = tokenizer([text], truncation=True, return_tensors='pt')\n"
      ],
      "metadata": {
        "id": "tYVqbcSW1zr9"
      },
      "execution_count": null,
      "outputs": []
    },
    {
      "cell_type": "code",
      "source": [
        "summary_ids = model.generate(inputs['input_ids'], num_beams=4, early_stopping=True, min_length=1000, max_length=1020)\n",
        "summarized_text = ([tokenizer.decode(g, skip_special_tokens=True, clean_up_tokenization_spaces=True) for g in summary_ids])\n",
        "print(summarized_text)"
      ],
      "metadata": {
        "colab": {
          "base_uri": "https://localhost:8080/"
        },
        "id": "GdRhcUqP6t_P",
        "outputId": "22e297fb-f440-4fc3-ef3c-8048d5a7caf6"
      },
      "execution_count": null,
      "outputs": [
        {
          "output_type": "stream",
          "name": "stdout",
          "text": [
            "[' An operations management department ensures that processes are executed in an efficient and effective way to satisfy the needs of the organization and its customers. This paper seeks to discuss concepts of the branch of management that deals with the design and supervision of operational processes in a business organization. The paper will look into the history, functions, case studies, advantages, advantages and factors that affect the operations management’s involvement in oil and gas companies. The history of operations management stems all the way back to the eighteenth century with theories and principles over how operations should be sufficientlymanaged. In 1911, Fredrick Taylor developed operations-related principles that involved a scientific approach to the production process. In the same time, the company had to consider strategies that would give them an advantage in the market for their products that would help them cut on their production costs and help them to help their products. The company then developed a ‘vertical integration technique” (Business 1) in their products was then developed to help them in their own interest in their product development. The paper also looked into the production techniques that would enable them to produce more durable products that were then adopted by the company to be successful in producing products. The company adopted a “vertical integrated technique’. It was then adopted to produce products that helped them to make them durable products. In the company’�s products. An example of ‘Vertical integration.’ ( Business 1) The paper’ – The paper. “Vertical Integration. The Paper”. The “optical integration” – The Paper. Back Back to Back to The Back to the Back To The Back To the Front To The Front To To Back To To The Top To The Home’ Back to To The Page”, please click here to the Page Back to Page Back To Back Back To Mail Online. Please email us a Back To Your Front To Front To Home” back to The Page Back. Back To Home. Back to Mail Online. Back to : Back to Front To the Page To The Scroll Back to D Back To Front. Back. Back To : Back To Scroll Back To In The Back. To The To The page To The Wall Back To THE Back To D Back to THE Scroll Back TO The Back Off Off To The Website. To the Back Off To Back Off The Front Back To It Off Off Off The Page Off Off Now! Back To Me! Back to In The To Be Back To Check To The Now. Back Off Back To Now! To The Last To The Check Back To You! Back In The Check It Off! Back Off! To the To Be To The List List Back To We We Back To Last! Please The Back Back In To The Next To The We We Were Back! To Back! Now! In The Now! page Back To See Back To Have Back To Be! Now! Back To Go To The Switch Back to Now! At The Back Now! Please Back To Here! Back Back! Please Please Back to Check To To To See To The The Back! Back TO To The Story To The Truth To The You Back Back. To The Have Back Back TO THE To The Tell To The D Back Back Back At The To We Back Back! To The Please To The Be! Back A Back To A Back Back A To Back The To Back At To The... To The It Back To At Back To  Back To There! Back The Back TO TO The To You Back To T To The At Back Back  To The T Back To And To To Now To The When Back To For The To It! To To We! Back At Back to Last To To It Back Back The The To To In To To Be The Back The Now Back To On The Back On The To Now. To To Last To Back In Back To... Back To Sl Back To Were The Back We To The For The Back At It Back to At The Now Now! The Back There To Back On Back To Sub To The Bottom To The Wh Back To Yesterday! Back On To The First To The After Back To Sh Back To Please To To Check The Back You To The : To The Square Back To By The Back Of The Back, Back To When The Back It To Back It Back At At The Front Of The Now Please Back Back There Back To Change To The Change Back To Square Back Back Off At The Last Back To An Back To Text Back To Face Back To Next To To Change The Back And Back To One Back Back It On Back Back On It Back! In Back Back Slit Back To Blit Back Back. Please Back At Front To Back T Back Backwards To The Face Back Back Now To Back Home To Back. See Back Back at The Back Here Back To Once The Back In A Back to  Back Back – Back To After The Back Sh Back Back T To Back to A Back On At Back At In The The We Back']\n"
          ]
        }
      ]
    },
    {
      "cell_type": "code",
      "source": [],
      "metadata": {
        "id": "xuJCddIc_0MX"
      },
      "execution_count": null,
      "outputs": []
    }
  ]
}