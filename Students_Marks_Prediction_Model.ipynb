{
  "nbformat": 4,
  "nbformat_minor": 0,
  "metadata": {
    "colab": {
      "provenance": [],
      "authorship_tag": "ABX9TyOsWHDQXvBulP9YVZySmcKZ",
      "include_colab_link": true
    },
    "kernelspec": {
      "name": "python3",
      "display_name": "Python 3"
    },
    "language_info": {
      "name": "python"
    }
  },
  "cells": [
    {
      "cell_type": "markdown",
      "metadata": {
        "id": "view-in-github",
        "colab_type": "text"
      },
      "source": [
        "<a href=\"https://colab.research.google.com/github/Sujal3141/My--Projects/blob/main/Students_Marks_Prediction_Model.ipynb\" target=\"_parent\"><img src=\"https://colab.research.google.com/assets/colab-badge.svg\" alt=\"Open In Colab\"/></a>"
      ]
    },
    {
      "cell_type": "markdown",
      "source": [
        "### CODE"
      ],
      "metadata": {
        "id": "11B2Sd4PYST0"
      }
    },
    {
      "cell_type": "code",
      "execution_count": null,
      "metadata": {
        "colab": {
          "base_uri": "https://localhost:8080/"
        },
        "id": "iAHk2iT3UMbY",
        "outputId": "9c544d38-461a-46ae-f507-1f8a7fc1959f"
      },
      "outputs": [
        {
          "output_type": "execute_result",
          "data": {
            "text/plain": [
              "39.17772990387074"
            ]
          },
          "metadata": {},
          "execution_count": 1
        }
      ],
      "source": [
        "#IMPORTING THE LIBRARIES\n",
        "from sklearn.metrics import mean_squared_error\n",
        "import pandas as pd\n",
        "import numpy as np\n",
        "import random\n",
        "from sklearn.model_selection import train_test_split\n",
        "from sklearn.linear_model import LinearRegression\n",
        "import seaborn as sns\n",
        "\n",
        "\n",
        "#CREATING EMPTY LIST FOR THE DATA SET\n",
        "hours_studied=[]\n",
        "hours_slept=[]\n",
        "iqs=[]\n",
        "locations=[]\n",
        "marks_obtained=[]\n",
        "\n",
        "\n",
        "\n",
        "# FILLING ENTRIES IN THE DATA SET\n",
        "for i in range(1,101):\n",
        "    iq = np.random.randint(70,181)\n",
        "    iqs.append(iq)\n",
        "    hour_slept=np.random.randint(5,8)+random.choice([0,1,0.5])\n",
        "    hours_slept.append(hour_slept)\n",
        "    location = random.choice([\"India\",\"U.S.A\",\"Africa\",\"Central America\",\"Belgium\" ,\"Mexico\",\"Maldives\",\"Indonesia\",\"Iran\",\"England\"])\n",
        "    locations.append(location)\n",
        "    hour_studied = np.random.randint(2,10)+random.choice([-0.5,0.5])\n",
        "    hours_studied.append(hour_studied)\n",
        "    mark_obtained = round(20+0.2*iq+0.5*hour_slept+4*hour_studied+2*len(location)/15,2)+random.gauss(0,6)\n",
        "    marks_obtained.append(mark_obtained)\n",
        "\n",
        "\n",
        "# making list into matrix of rows and colums\n",
        "dict ={\"No of hours studied\":hours_studied,\"No of hours slept\":hours_slept,\"IQ\":iqs,\"location\":locations,\"Marks Obtained\":marks_obtained}\n",
        "\n",
        "\n",
        "\n",
        "# Converting the data set into a csv file\n",
        "df = pd.DataFrame(dict)\n",
        "df.to_csv(\"student_data.csv\",index=False)\n",
        "\n",
        "\n",
        "#assigning the input columns as x and output column i.e \"Marks_obtained\" as y\n",
        "X = df[[\"No of hours studied\",\"No of hours slept\",\"IQ\",\"location\"]]\n",
        "Y = df[\"Marks Obtained\"]\n",
        "\n",
        "# creating dummy variable for column cotaining the variable \"location\" as these are non numeric values..\n",
        "X = pd.get_dummies(X,columns=[\"location\"])\n",
        "\n",
        "#Spliting the data set into training and test set respectively\n",
        "x_train,x_test,y_train,y_test = train_test_split(X,Y,test_size=0.25,random_state=1)\n",
        "#training the model by linear regression\n",
        "regressor = LinearRegression()\n",
        "regressor.fit(x_train.values,y_train.values)\n",
        "\n",
        "#Applying the trained model on the test set\n",
        "y_predict = regressor.predict(x_test.values)\n",
        "y_test = np.array(y_test)\n",
        "y_predict = np.array(y_predict)\n",
        "#Checking for the error in our model\n",
        "mse = mean_squared_error(y_test, y_predict)\n",
        "mse\n"
      ]
    },
    {
      "cell_type": "markdown",
      "source": [
        "\n",
        "\n",
        "\n",
        "\n",
        "\n",
        "\n",
        "\n",
        "\n",
        "\n",
        "\n",
        "\n",
        "\n",
        "\n",
        "\n",
        "\n",
        "\n",
        "\n",
        "\n",
        "\n",
        "\n",
        "OUTPUT"
      ],
      "metadata": {
        "id": "nTPsWuYfYs8p"
      }
    },
    {
      "cell_type": "code",
      "source": [
        "\n",
        "\n",
        "\n",
        "\n",
        "\n",
        "#Taking input from the user.\n",
        "x1 = float(input(\"No. of hours studied : \"))\n",
        "x2 = int(input(\"No. of hours slept : \"))\n",
        "x3 = int(input(\"Enter the iq : \"))\n",
        "x4 = str(input(\"Enter the location : \"))\n",
        "i=0\n",
        "for name in sorted(set(locations)):\n",
        "  if name == x4:\n",
        "    break\n",
        "  else :\n",
        "   i+=1\n",
        "\n",
        "input_val=np.array([x1,x2,x3,0,0,0,0,0,0,0,0,0,0])\n",
        "input_val[3+i] = 1;\n",
        "\n",
        "input_data_reshaped=input_val.reshape(1,-1)\n",
        "input_data_reshaped\n",
        "prediction = regressor.predict(input_data_reshaped)\n",
        "print(f\"Marks obtained is :  {prediction}\")"
      ],
      "metadata": {
        "colab": {
          "base_uri": "https://localhost:8080/"
        },
        "id": "QcazJJh7UPB0",
        "outputId": "4cd7220c-9f8d-4e8e-8e64-d8611bdf6f0c"
      },
      "execution_count": null,
      "outputs": [
        {
          "output_type": "stream",
          "name": "stdout",
          "text": [
            "No. of hours studied : 2\n",
            "No. of hours slept : 9\n",
            "Enter the iq : 50\n",
            "Enter the location : India\n",
            "Marks obtained is :  [42.07920165]\n"
          ]
        }
      ]
    },
    {
      "cell_type": "code",
      "source": [],
      "metadata": {
        "id": "xfA8UNrXy5vp"
      },
      "execution_count": null,
      "outputs": []
    }
  ]
}